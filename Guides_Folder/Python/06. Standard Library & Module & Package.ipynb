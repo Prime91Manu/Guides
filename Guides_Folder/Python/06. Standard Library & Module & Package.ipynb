{
 "cells": [
  {
   "cell_type": "markdown",
   "metadata": {},
   "source": [
    "# Standard Library & Module & Package"
   ]
  },
  {
   "cell_type": "markdown",
   "metadata": {},
   "source": [
    "On this Python notebook it will be showed Python Standard Library & Module & Package."
   ]
  },
  {
   "cell_type": "markdown",
   "metadata": {},
   "source": [
    "## Why do we need to study these topics?\n",
    "\n",
    "1. Efficient use of functions created by others\n",
    "\n",
    "2. Proper structure when creating your own Python solutions for problems\n"
   ]
  },
  {
   "cell_type": "markdown",
   "metadata": {},
   "source": [
    "## Standard Library\n",
    "\n",
    "Is a collection of code we get when install python on our system.\n",
    "\n",
    "### Built-in functions\n",
    "\n",
    "Like `print(), max(), min()`\n",
    "\n",
    "### Built-in constants\n",
    "\n",
    "Like `False, True, None`\n",
    "\n",
    "### Data types\n",
    "\n",
    "Like `Int, float, bool, str`\n",
    "\n",
    "### File formats\n",
    "\n",
    "Like `Csv, excel, hdf5, etc`\n"
   ]
  },
  {
   "cell_type": "markdown",
   "metadata": {},
   "source": [
    "## Module\n",
    "\n",
    "Is a python file (.py) that contains a set of functions and variables.\n",
    "\n",
    "### Import a module\n",
    "\n",
    "`from package.module import A as A\n",
    "A(...)`\n",
    "\n",
    "`from package import module\n",
    "module.A(...)`\n",
    "\n",
    "### Example\n",
    "\n",
    "On file/module `arithmetic.py` we can find:\n",
    "\n",
    "`\n",
    "def sum():\n",
    "    ...\n",
    "def minus():\n",
    "    ...\n",
    "`"
   ]
  },
  {
   "cell_type": "markdown",
   "metadata": {},
   "source": [
    "## Package\n",
    "\n",
    "Is a set of modules and standard packages\n"
   ]
  }
 ],
 "metadata": {
  "kernelspec": {
   "display_name": "Python 3",
   "language": "python",
   "name": "python3"
  },
  "language_info": {
   "codemirror_mode": {
    "name": "ipython",
    "version": 3
   },
   "file_extension": ".py",
   "mimetype": "text/x-python",
   "name": "python",
   "nbconvert_exporter": "python",
   "pygments_lexer": "ipython3",
   "version": "3.8.5"
  }
 },
 "nbformat": 4,
 "nbformat_minor": 4
}
