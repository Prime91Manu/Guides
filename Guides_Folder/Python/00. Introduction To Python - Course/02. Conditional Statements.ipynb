{
 "cells": [
  {
   "cell_type": "markdown",
   "metadata": {},
   "source": [
    "# Conditional Statements"
   ]
  },
  {
   "cell_type": "markdown",
   "metadata": {},
   "source": [
    "On this Python notebook it will be showed Python conditional Statements"
   ]
  },
  {
   "cell_type": "markdown",
   "metadata": {},
   "source": [
    "## if - else statement (single condition)\n",
    "```python\n",
    "if(condition):\n",
    "    statement1\n",
    "else\n",
    "    statement2\n",
    "```"
   ]
  },
  {
   "cell_type": "code",
   "execution_count": 2,
   "metadata": {},
   "outputs": [
    {
     "name": "stdout",
     "output_type": "stream",
     "text": [
      "Hello\n"
     ]
    }
   ],
   "source": [
    "if( True ):\n",
    "    print( 'Hello' )\n",
    "else:\n",
    "    print( 'Bye' )"
   ]
  },
  {
   "cell_type": "markdown",
   "metadata": {},
   "source": [
    "## if - elif - else statement (multiple condition)\n",
    "```python\n",
    "if(condition1):\n",
    "    statement1\n",
    "elif(confition2)\n",
    "    statement2\n",
    "else\n",
    "    statement3\n",
    "```"
   ]
  },
  {
   "cell_type": "code",
   "execution_count": 3,
   "metadata": {},
   "outputs": [
    {
     "name": "stdout",
     "output_type": "stream",
     "text": [
      "What!?\n"
     ]
    }
   ],
   "source": [
    "if( False ):\n",
    "    print( 'Hello' )\n",
    "elif( True ):\n",
    "    print( 'What!?' )\n",
    "else:\n",
    "    print( 'Bye' )"
   ]
  }
 ],
 "metadata": {
  "kernelspec": {
   "display_name": "Python 3",
   "language": "python",
   "name": "python3"
  },
  "language_info": {
   "codemirror_mode": {
    "name": "ipython",
    "version": 3
   },
   "file_extension": ".py",
   "mimetype": "text/x-python",
   "name": "python",
   "nbconvert_exporter": "python",
   "pygments_lexer": "ipython3",
   "version": "3.8.5"
  }
 },
 "nbformat": 4,
 "nbformat_minor": 4
}
