{
 "cells": [
  {
   "cell_type": "markdown",
   "metadata": {},
   "source": [
    "# Operators"
   ]
  },
  {
   "cell_type": "markdown",
   "metadata": {},
   "source": [
    "On this Python notebook it will be showed Python Operators"
   ]
  },
  {
   "cell_type": "markdown",
   "metadata": {},
   "source": [
    "## Arithmetic operators  \n",
    "`+` is used for **additions**  \n",
    "`-` is used for **substraction**  \n",
    "`*` is used for **multiplication**  \n",
    "`/` is used for **division**  \n",
    "`//` is used for **integer of division**  \n",
    "`%` is used for **reminder of division**"
   ]
  },
  {
   "cell_type": "markdown",
   "metadata": {},
   "source": [
    "## Comparison operators  \n",
    "`<` is used for **less than**  \n",
    "`<=` is used for **less than or equal to**  \n",
    "`==` is used for **equal to**  \n",
    "`>` is used for **greater than**    \n",
    "`>=` is used for **greater than or equal to**  \n",
    "`\"=` is used for **not equal to**"
   ]
  },
  {
   "cell_type": "markdown",
   "metadata": {},
   "source": [
    "## Logical operators  \n",
    "`and` **Returns the first false value; if not found returns last.**  \n",
    "Example:`3 and 5 = 5`.  \n",
    "\n",
    "`or` **Returns the first true value; if not found returns last.**  \n",
    "Example:`False or 0 or False = False`.  \n",
    "Example:`False or 0 = 0`.\n",
    "\n",
    "`not` **Flips the Boolean value of the operand.**  \n",
    "Example:`not False = 0`."
   ]
  }
 ],
 "metadata": {
  "kernelspec": {
   "display_name": "Python 3",
   "language": "python",
   "name": "python3"
  },
  "language_info": {
   "codemirror_mode": {
    "name": "ipython",
    "version": 3
   },
   "file_extension": ".py",
   "mimetype": "text/x-python",
   "name": "python",
   "nbconvert_exporter": "python",
   "pygments_lexer": "ipython3",
   "version": "3.8.5"
  }
 },
 "nbformat": 4,
 "nbformat_minor": 4
}
