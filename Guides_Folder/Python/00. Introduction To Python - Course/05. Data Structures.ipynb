{
 "cells": [
  {
   "cell_type": "markdown",
   "metadata": {},
   "source": [
    "# Data Structures"
   ]
  },
  {
   "cell_type": "markdown",
   "metadata": {},
   "source": [
    "On this Python notebook it will be showed Python Data Structures."
   ]
  },
  {
   "cell_type": "markdown",
   "metadata": {},
   "source": [
    "## Data types\n",
    "\n",
    "`List` **Collection of items of different data types** Example:`['Manuel', 1], [1,1.1,'Manuel']`\n",
    "\n",
    "`Tuple` **Collection of items of different data types. Immutable**, once a tuple is created, any operation that seeks to change its contents is not allowed.  \n",
    "Example:`('Manuel', 1), (1,1.1,'Manuel')`\n",
    "\n",
    "`Set` **Collection of items of different data types. Not Sorted**. Accept all kind of data except `List`  \n",
    "Example:`{'Manuel', 1}, {1,1.1,'Manuel'}`\n",
    "\n",
    "`Dictionary` **Collection of pairs of items of different data types. Not Sorted**. Accept all kind of data except `List`  \n",
    "Example:`capitals={\"USA\":\"Washington, D.C.\", \"France\":\"Paris\", \"India\":\"New Delhi\"}`\n"
   ]
  },
  {
   "cell_type": "markdown",
   "metadata": {},
   "source": [
    "## Lists\n",
    "\n",
    "### What is a List?\n",
    "\n",
    "A list is an ordered data structure with elements separated by comma and enclosed withn square brackets,\n",
    "\n",
    "Examples:\n",
    "`\n",
    "list1 = [ 2, 3, 4, 5 ]\n",
    "`\n",
    "\n",
    "### Sub-setting a List\n",
    "\n",
    "`list1[ 1 ]` returns the second element of `list1`, that is `3`.\n",
    "\n",
    "`list1[ 1 : 3 ]` returns the sequence between second (include) and fourth (exclude) element of `list1`, that is `[ 3 , 4 ]`.\n",
    "\n",
    "`list1[ -1 ]` returns the last element of `list1`, that is `5`.\n",
    "\n",
    "### Adding elements to an existing List\n",
    "\n",
    "`list1.append( 6 )` add a single element at the end of `list1`, that is `[ 2, 3, 4, 5, 6 ]`.\n",
    "\n",
    "`list1.extend( [ 7 , 8 ] )` add both elements at the end of `list1`, that is `[ 2, 3, 4, 5, 6, 7, 8 ]`.\n",
    "\n",
    "`list1.append( [ 9 , 10 ] )` add the list as element at the end of `list1`, that is `[ 2, 3, 4, 5, 6, 7, 8, [ 9, 10 ] ]`.\n",
    "\n",
    "### Deleting elements of a List\n",
    "\n",
    "`list1.remove( 2 )` delete a elements equal `2` from `list1`, that is `[ 3, 4, 5, 6, 7, 8, [ 9, 10 ] ]`.\n",
    "\n",
    "`del list1[ 2 ]` delete third element of `list1`, that is `[ 3, 4, 6, 7, 8, [ 9, 10 ] ]`.\n",
    "\n",
    "### Looping over a List\n",
    "\n",
    "```python\n",
    "for i in list1:  \n",
    "    print( i )\n",
    "```\n",
    "prints each element of the list `list1`."
   ]
  },
  {
   "cell_type": "markdown",
   "metadata": {},
   "source": [
    "## Dictionaries\n",
    "\n",
    "### What is a Dictionary?\n",
    "\n",
    "A list is an un-ordered data structure with elements separated by comma and stored as *key : value* pair. A dictionary is enclosed within curly brackets.\n",
    "\n",
    "Examples:\n",
    "`\n",
    "dict1 = { 'name' : 'Manuel', 'age' : 29, 'location' : 'Madrid'}\n",
    "`\n",
    "\n",
    "### Accesing elements of a Dictionary\n",
    "\n",
    "`dict1[ 'name' ]` returns the value of the key `'name'` of `dict1`, that is `'Manuel'`.\n",
    "\n",
    "### Adding elements to a Dictionary\n",
    "\n",
    "`dict1[ 'height' ] = 170` add the key : value of ` 'height' : 170 ` to `dict1`, that is `dict1 = { 'name' : 'Manuel', 'age' : 29, 'location' : 'Madrid', 'height' : 170 }`.\n",
    "\n",
    "`dict1.update( { 'phone' : 123456789, 'email' : 'address@domain.ext' })` add the dictionary content of `{ 'phone' : 123456789, 'email' : 'address@domain.ext' }` to `dict1`, that is `dict1 = { 'name' : 'Manuel', 'age' : 29, 'location' : 'Madrid', 'height' : 170 , phone' : 123456789, 'email' : 'address@domain.ext' }`.\n",
    "\n",
    "### Deleting elements of a Dictionary\n",
    "\n",
    "`del dict1[ 'name' ]` delete key : value for key `'name'` of `dict1`, that is `dict1 = { 'age' : 29, 'location' : 'Madrid', 'height' : 170 , phone' : 123456789, 'email' : 'address@domain.ext' }`."
   ]
  }
 ],
 "metadata": {
  "kernelspec": {
   "display_name": "Python 3",
   "language": "python",
   "name": "python3"
  },
  "language_info": {
   "codemirror_mode": {
    "name": "ipython",
    "version": 3
   },
   "file_extension": ".py",
   "mimetype": "text/x-python",
   "name": "python",
   "nbconvert_exporter": "python",
   "pygments_lexer": "ipython3",
   "version": "3.8.5"
  }
 },
 "nbformat": 4,
 "nbformat_minor": 4
}
