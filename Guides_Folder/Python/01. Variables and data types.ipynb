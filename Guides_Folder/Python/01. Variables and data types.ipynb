{
 "cells": [
  {
   "cell_type": "markdown",
   "metadata": {},
   "source": [
    "# Variables and data types"
   ]
  },
  {
   "cell_type": "markdown",
   "metadata": {},
   "source": [
    "On this Python notebook it will be showed Python Variables and data types."
   ]
  },
  {
   "cell_type": "markdown",
   "metadata": {},
   "source": [
    "## Variables\n",
    "**Variables** are names bounded to objects.\n",
    "\n",
    "Example:`name = 'Manuel'`.\n",
    "\n",
    "The object `'Manuel'` is assigned to the variable `name`.\n"
   ]
  },
  {
   "cell_type": "code",
   "execution_count": 1,
   "metadata": {},
   "outputs": [
    {
     "name": "stdout",
     "output_type": "stream",
     "text": [
      "5\n"
     ]
    }
   ],
   "source": [
    "i = 5\n",
    "j = i\n",
    "j = 3\n",
    "\n",
    "print(i)"
   ]
  },
  {
   "cell_type": "markdown",
   "metadata": {},
   "source": [
    "- Python is case-sensitive\n",
    "- Variable name cannot start with special character except underscore '_'\n",
    "- Variable name cannot start with a number"
   ]
  },
  {
   "cell_type": "markdown",
   "metadata": {},
   "source": [
    "## Data types\n",
    "\n",
    "`int` **integer numbers** Example:`-1, 0, 1, 2, 3, ...`\n",
    "\n",
    "`float` **Decimal numbers** Example:`-1.1, 0.1, ...`\n",
    "\n",
    "`bool` **Boolean values** Example:`True, False`\n",
    "\n",
    "`str` **Strings** Example:`'Manuel', 'Home', ...`\n",
    "\n",
    "`List` **Collection of items of different data types** Example:`['Manuel', 1], [1,1.1,'Manuel']`\n",
    "\n",
    "`Tuple` **Collection of items of different data types. Immutable**, once a tuple is created, any operation that seeks to change its contents is not allowed.  \n",
    "Example:`('Manuel', 1), (1,1.1,'Manuel')`\n",
    "\n",
    "`Set` **Collection of items of different data types. Not Sorted**. Accept all kind of data except `List`  \n",
    "Example:`{'Manuel', 1}, {1,1.1,'Manuel'}`\n",
    "\n",
    "`Dictionary` **Collection of pairs of items of different data types. Not Sorted**. Accept all kind of data except `List`  \n",
    "Example:`capitals={\"USA\":\"Washington, D.C.\", \"France\":\"Paris\", \"India\":\"New Delhi\"}`\n"
   ]
  }
 ],
 "metadata": {
  "kernelspec": {
   "display_name": "Python 3",
   "language": "python",
   "name": "python3"
  },
  "language_info": {
   "codemirror_mode": {
    "name": "ipython",
    "version": 3
   },
   "file_extension": ".py",
   "mimetype": "text/x-python",
   "name": "python",
   "nbconvert_exporter": "python",
   "pygments_lexer": "ipython3",
   "version": "3.8.5"
  }
 },
 "nbformat": 4,
 "nbformat_minor": 4
}
